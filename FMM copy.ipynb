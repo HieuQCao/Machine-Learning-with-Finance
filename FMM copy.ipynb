{
 "cells": [
  {
   "cell_type": "code",
   "execution_count": 66,
   "id": "d86a37a1-b999-41b3-955b-9fda68c871f7",
   "metadata": {
    "tags": []
   },
   "outputs": [],
   "source": [
    "import yfinance as yf\n",
    "import pandas as pd\n",
    "import matplotlib as plt\n",
    "import xlsxwriter\n",
    "from openpyxl.utils.dataframe import dataframe_to_rows\n",
    "from openpyxl import Workbook,load_workbook\n",
    "import datetime"
   ]
  },
  {
   "cell_type": "code",
   "execution_count": 67,
   "id": "8ceca78c-67d5-423e-9672-69eee646c9f3",
   "metadata": {
    "tags": []
   },
   "outputs": [],
   "source": [
    "\n",
    "# Get data\n",
    "stock = yf.Ticker(\"AAPL\")\n",
    "income_statement = stock.income_stmt\n",
    "balance_sheet = stock.balance_sheet\n",
    "cash_flow_statement= stock.cashflow\n",
    "\n"
   ]
  },
  {
   "cell_type": "code",
   "execution_count": 68,
   "id": "4c664236",
   "metadata": {},
   "outputs": [],
   "source": [
    "def auto_fit_columns(sheet):\n",
    "    \"\"\"Automatically adjusts column widths to fit cell content.\"\"\"\n",
    "    for col in sheet.columns:\n",
    "        max_length = 0\n",
    "        for cell in col:\n",
    "            try:\n",
    "                if len(str(cell.value)) > max_length:\n",
    "                    max_length = len(str(cell.value))\n",
    "            except TypeError:\n",
    "                pass\n",
    "        adjusted_width = (max_length + 2)  # Adjust width for readability\n",
    "        sheet.column_dimensions[col[0].column_letter].width = adjusted_width\n",
    "\n",
    "def convert_to_date(sheet, cells):\n",
    "    \"\"\"Converts cell values in `cells` to mm/dd/yyyy format.\"\"\"\n",
    "    for cell in cells:\n",
    "        if isinstance(sheet[cell].value, datetime.datetime):\n",
    "            sheet[cell].value = sheet[cell].value.date()\n",
    "            sheet[cell].number_format = 'mm/dd/yyyy'\n",
    "\n",
    "def swap_rows_in_worksheet(worksheet):\n",
    "    \"\"\"Swaps rows from bottom to top (reversing order) in the given worksheet.\"\"\"\n",
    "    max_row = worksheet.max_row\n",
    "    for row_index in range(2, (max_row // 2) + 1):\n",
    "        top_row_cells = list(worksheet.iter_rows(min_row=row_index, max_row=row_index, values_only=True))[0]\n",
    "        bottom_row_cells = list(worksheet.iter_rows(min_row=max_row - row_index + 2, max_row=max_row - row_index + 2, values_only=True))[0]\n",
    "        for col_index, (top_cell_value, bottom_cell_value) in enumerate(zip(top_row_cells, bottom_row_cells), start=1):\n",
    "            worksheet.cell(row=row_index, column=col_index).value = bottom_cell_value\n",
    "            worksheet.cell(row=max_row - row_index + 2, column=col_index).value = top_cell_value"
   ]
  },
  {
   "cell_type": "code",
   "execution_count": 69,
   "id": "a8f18241-8a68-42e5-8d1c-f4723418fafe",
   "metadata": {},
   "outputs": [],
   "source": [
    "# Load the existing workbook\n",
    "wb = load_workbook('out.xlsx')\n",
    "\n",
    "# Handle sheet creation/updating dynamically\n",
    "sheet_names = ['Income Statement', 'Balance Sheet', 'Cashflow Statement']\n",
    "data_frames = [income_statement, balance_sheet, cash_flow_statement]\n",
    "for sheet_name, data_frame in zip(sheet_names, data_frames):\n",
    "    if sheet_name not in wb.sheetnames:  # Create sheet if it doesn't exist\n",
    "        ws = wb.create_sheet(sheet_name)\n",
    "        dataframe_to_rows(data_frame).to_excel(ws, startrow=1, startcol=1)\n",
    "    else:  # Update existing sheet\n",
    "        ws = wb[sheet_name]\n",
    "        ws.delete_rows(1, ws.max_row)\n",
    "        # Append new data\n",
    "        for row in dataframe_to_rows(data_frame):\n",
    "            ws.append(row)\n",
    "# Formatting and modifications\n",
    "for ws in wb.worksheets:\n",
    "    auto_fit_columns(ws)\n",
    "    convert_to_date(ws, ['B1', 'C1', 'D1', 'E1'])\n",
    "    swap_rows_in_worksheet(ws)  # Uncomment if necessary"
   ]
  },
  {
   "cell_type": "code",
   "execution_count": 70,
   "id": "5619e118",
   "metadata": {},
   "outputs": [],
   "source": [
    "input_sheet = wb.create_sheet(\"Input\")\n",
    "\n",
    "# Put the stock name in the new sheet\n",
    "input_sheet['A1'] = \"Stock Name\"\n",
    "input_sheet['B1'] = stock.info['longName']"
   ]
  },
  {
   "cell_type": "code",
   "execution_count": 71,
   "id": "e4345a6f",
   "metadata": {},
   "outputs": [],
   "source": [
    "\n",
    "\n",
    "# Save the workbook\n",
    "wb.save('out.xlsx')\n"
   ]
  }
 ],
 "metadata": {
  "kernelspec": {
   "display_name": "Python 3 (ipykernel)",
   "language": "python",
   "name": "python3"
  },
  "language_info": {
   "codemirror_mode": {
    "name": "ipython",
    "version": 3
   },
   "file_extension": ".py",
   "mimetype": "text/x-python",
   "name": "python",
   "nbconvert_exporter": "python",
   "pygments_lexer": "ipython3",
   "version": "3.11.5"
  }
 },
 "nbformat": 4,
 "nbformat_minor": 5
}
